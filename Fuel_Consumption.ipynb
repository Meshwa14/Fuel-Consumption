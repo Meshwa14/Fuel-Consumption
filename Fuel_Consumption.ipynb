{
  "cells": [
    {
      "cell_type": "code",
      "execution_count": null,
      "metadata": {
        "id": "KFgmZtBO3Z9U"
      },
      "outputs": [],
      "source": [
        "import numpy as np\n",
        "import pandas as pd\n",
        "import seaborn as sns\n",
        "import matplotlib.pyplot as plt\n",
        "import plotly.express as px\n",
        "from matplotlib import pyplot as plt\n"
      ]
    },
    {
      "cell_type": "code",
      "execution_count": null,
      "metadata": {
        "colab": {
          "background_save": true,
          "base_uri": "https://localhost:8080/",
          "height": 74,
          "resources": {
            "http://localhost:8080/nbextensions/google.colab/files.js": {
              "data": "Ly8gQ29weXJpZ2h0IDIwMTcgR29vZ2xlIExMQwovLwovLyBMaWNlbnNlZCB1bmRlciB0aGUgQXBhY2hlIExpY2Vuc2UsIFZlcnNpb24gMi4wICh0aGUgIkxpY2Vuc2UiKTsKLy8geW91IG1heSBub3QgdXNlIHRoaXMgZmlsZSBleGNlcHQgaW4gY29tcGxpYW5jZSB3aXRoIHRoZSBMaWNlbnNlLgovLyBZb3UgbWF5IG9idGFpbiBhIGNvcHkgb2YgdGhlIExpY2Vuc2UgYXQKLy8KLy8gICAgICBodHRwOi8vd3d3LmFwYWNoZS5vcmcvbGljZW5zZXMvTElDRU5TRS0yLjAKLy8KLy8gVW5sZXNzIHJlcXVpcmVkIGJ5IGFwcGxpY2FibGUgbGF3IG9yIGFncmVlZCB0byBpbiB3cml0aW5nLCBzb2Z0d2FyZQovLyBkaXN0cmlidXRlZCB1bmRlciB0aGUgTGljZW5zZSBpcyBkaXN0cmlidXRlZCBvbiBhbiAiQVMgSVMiIEJBU0lTLAovLyBXSVRIT1VUIFdBUlJBTlRJRVMgT1IgQ09ORElUSU9OUyBPRiBBTlkgS0lORCwgZWl0aGVyIGV4cHJlc3Mgb3IgaW1wbGllZC4KLy8gU2VlIHRoZSBMaWNlbnNlIGZvciB0aGUgc3BlY2lmaWMgbGFuZ3VhZ2UgZ292ZXJuaW5nIHBlcm1pc3Npb25zIGFuZAovLyBsaW1pdGF0aW9ucyB1bmRlciB0aGUgTGljZW5zZS4KCi8qKgogKiBAZmlsZW92ZXJ2aWV3IEhlbHBlcnMgZm9yIGdvb2dsZS5jb2xhYiBQeXRob24gbW9kdWxlLgogKi8KKGZ1bmN0aW9uKHNjb3BlKSB7CmZ1bmN0aW9uIHNwYW4odGV4dCwgc3R5bGVBdHRyaWJ1dGVzID0ge30pIHsKICBjb25zdCBlbGVtZW50ID0gZG9jdW1lbnQuY3JlYXRlRWxlbWVudCgnc3BhbicpOwogIGVsZW1lbnQudGV4dENvbnRlbnQgPSB0ZXh0OwogIGZvciAoY29uc3Qga2V5IG9mIE9iamVjdC5rZXlzKHN0eWxlQXR0cmlidXRlcykpIHsKICAgIGVsZW1lbnQuc3R5bGVba2V5XSA9IHN0eWxlQXR0cmlidXRlc1trZXldOwogIH0KICByZXR1cm4gZWxlbWVudDsKfQoKLy8gTWF4IG51bWJlciBvZiBieXRlcyB3aGljaCB3aWxsIGJlIHVwbG9hZGVkIGF0IGEgdGltZS4KY29uc3QgTUFYX1BBWUxPQURfU0laRSA9IDEwMCAqIDEwMjQ7CgpmdW5jdGlvbiBfdXBsb2FkRmlsZXMoaW5wdXRJZCwgb3V0cHV0SWQpIHsKICBjb25zdCBzdGVwcyA9IHVwbG9hZEZpbGVzU3RlcChpbnB1dElkLCBvdXRwdXRJZCk7CiAgY29uc3Qgb3V0cHV0RWxlbWVudCA9IGRvY3VtZW50LmdldEVsZW1lbnRCeUlkKG91dHB1dElkKTsKICAvLyBDYWNoZSBzdGVwcyBvbiB0aGUgb3V0cHV0RWxlbWVudCB0byBtYWtlIGl0IGF2YWlsYWJsZSBmb3IgdGhlIG5leHQgY2FsbAogIC8vIHRvIHVwbG9hZEZpbGVzQ29udGludWUgZnJvbSBQeXRob24uCiAgb3V0cHV0RWxlbWVudC5zdGVwcyA9IHN0ZXBzOwoKICByZXR1cm4gX3VwbG9hZEZpbGVzQ29udGludWUob3V0cHV0SWQpOwp9CgovLyBUaGlzIGlzIHJvdWdobHkgYW4gYXN5bmMgZ2VuZXJhdG9yIChub3Qgc3VwcG9ydGVkIGluIHRoZSBicm93c2VyIHlldCksCi8vIHdoZXJlIHRoZXJlIGFyZSBtdWx0aXBsZSBhc3luY2hyb25vdXMgc3RlcHMgYW5kIHRoZSBQeXRob24gc2lkZSBpcyBnb2luZwovLyB0byBwb2xsIGZvciBjb21wbGV0aW9uIG9mIGVhY2ggc3RlcC4KLy8gVGhpcyB1c2VzIGEgUHJvbWlzZSB0byBibG9jayB0aGUgcHl0aG9uIHNpZGUgb24gY29tcGxldGlvbiBvZiBlYWNoIHN0ZXAsCi8vIHRoZW4gcGFzc2VzIHRoZSByZXN1bHQgb2YgdGhlIHByZXZpb3VzIHN0ZXAgYXMgdGhlIGlucHV0IHRvIHRoZSBuZXh0IHN0ZXAuCmZ1bmN0aW9uIF91cGxvYWRGaWxlc0NvbnRpbnVlKG91dHB1dElkKSB7CiAgY29uc3Qgb3V0cHV0RWxlbWVudCA9IGRvY3VtZW50LmdldEVsZW1lbnRCeUlkKG91dHB1dElkKTsKICBjb25zdCBzdGVwcyA9IG91dHB1dEVsZW1lbnQuc3RlcHM7CgogIGNvbnN0IG5leHQgPSBzdGVwcy5uZXh0KG91dHB1dEVsZW1lbnQubGFzdFByb21pc2VWYWx1ZSk7CiAgcmV0dXJuIFByb21pc2UucmVzb2x2ZShuZXh0LnZhbHVlLnByb21pc2UpLnRoZW4oKHZhbHVlKSA9PiB7CiAgICAvLyBDYWNoZSB0aGUgbGFzdCBwcm9taXNlIHZhbHVlIHRvIG1ha2UgaXQgYXZhaWxhYmxlIHRvIHRoZSBuZXh0CiAgICAvLyBzdGVwIG9mIHRoZSBnZW5lcmF0b3IuCiAgICBvdXRwdXRFbGVtZW50Lmxhc3RQcm9taXNlVmFsdWUgPSB2YWx1ZTsKICAgIHJldHVybiBuZXh0LnZhbHVlLnJlc3BvbnNlOwogIH0pOwp9CgovKioKICogR2VuZXJhdG9yIGZ1bmN0aW9uIHdoaWNoIGlzIGNhbGxlZCBiZXR3ZWVuIGVhY2ggYXN5bmMgc3RlcCBvZiB0aGUgdXBsb2FkCiAqIHByb2Nlc3MuCiAqIEBwYXJhbSB7c3RyaW5nfSBpbnB1dElkIEVsZW1lbnQgSUQgb2YgdGhlIGlucHV0IGZpbGUgcGlja2VyIGVsZW1lbnQuCiAqIEBwYXJhbSB7c3RyaW5nfSBvdXRwdXRJZCBFbGVtZW50IElEIG9mIHRoZSBvdXRwdXQgZGlzcGxheS4KICogQHJldHVybiB7IUl0ZXJhYmxlPCFPYmplY3Q+fSBJdGVyYWJsZSBvZiBuZXh0IHN0ZXBzLgogKi8KZnVuY3Rpb24qIHVwbG9hZEZpbGVzU3RlcChpbnB1dElkLCBvdXRwdXRJZCkgewogIGNvbnN0IGlucHV0RWxlbWVudCA9IGRvY3VtZW50LmdldEVsZW1lbnRCeUlkKGlucHV0SWQpOwogIGlucHV0RWxlbWVudC5kaXNhYmxlZCA9IGZhbHNlOwoKICBjb25zdCBvdXRwdXRFbGVtZW50ID0gZG9jdW1lbnQuZ2V0RWxlbWVudEJ5SWQob3V0cHV0SWQpOwogIG91dHB1dEVsZW1lbnQuaW5uZXJIVE1MID0gJyc7CgogIGNvbnN0IHBpY2tlZFByb21pc2UgPSBuZXcgUHJvbWlzZSgocmVzb2x2ZSkgPT4gewogICAgaW5wdXRFbGVtZW50LmFkZEV2ZW50TGlzdGVuZXIoJ2NoYW5nZScsIChlKSA9PiB7CiAgICAgIHJlc29sdmUoZS50YXJnZXQuZmlsZXMpOwogICAgfSk7CiAgfSk7CgogIGNvbnN0IGNhbmNlbCA9IGRvY3VtZW50LmNyZWF0ZUVsZW1lbnQoJ2J1dHRvbicpOwogIGlucHV0RWxlbWVudC5wYXJlbnRFbGVtZW50LmFwcGVuZENoaWxkKGNhbmNlbCk7CiAgY2FuY2VsLnRleHRDb250ZW50ID0gJ0NhbmNlbCB1cGxvYWQnOwogIGNvbnN0IGNhbmNlbFByb21pc2UgPSBuZXcgUHJvbWlzZSgocmVzb2x2ZSkgPT4gewogICAgY2FuY2VsLm9uY2xpY2sgPSAoKSA9PiB7CiAgICAgIHJlc29sdmUobnVsbCk7CiAgICB9OwogIH0pOwoKICAvLyBXYWl0IGZvciB0aGUgdXNlciB0byBwaWNrIHRoZSBmaWxlcy4KICBjb25zdCBmaWxlcyA9IHlpZWxkIHsKICAgIHByb21pc2U6IFByb21pc2UucmFjZShbcGlja2VkUHJvbWlzZSwgY2FuY2VsUHJvbWlzZV0pLAogICAgcmVzcG9uc2U6IHsKICAgICAgYWN0aW9uOiAnc3RhcnRpbmcnLAogICAgfQogIH07CgogIGNhbmNlbC5yZW1vdmUoKTsKCiAgLy8gRGlzYWJsZSB0aGUgaW5wdXQgZWxlbWVudCBzaW5jZSBmdXJ0aGVyIHBpY2tzIGFyZSBub3QgYWxsb3dlZC4KICBpbnB1dEVsZW1lbnQuZGlzYWJsZWQgPSB0cnVlOwoKICBpZiAoIWZpbGVzKSB7CiAgICByZXR1cm4gewogICAgICByZXNwb25zZTogewogICAgICAgIGFjdGlvbjogJ2NvbXBsZXRlJywKICAgICAgfQogICAgfTsKICB9CgogIGZvciAoY29uc3QgZmlsZSBvZiBmaWxlcykgewogICAgY29uc3QgbGkgPSBkb2N1bWVudC5jcmVhdGVFbGVtZW50KCdsaScpOwogICAgbGkuYXBwZW5kKHNwYW4oZmlsZS5uYW1lLCB7Zm9udFdlaWdodDogJ2JvbGQnfSkpOwogICAgbGkuYXBwZW5kKHNwYW4oCiAgICAgICAgYCgke2ZpbGUudHlwZSB8fCAnbi9hJ30pIC0gJHtmaWxlLnNpemV9IGJ5dGVzLCBgICsKICAgICAgICBgbGFzdCBtb2RpZmllZDogJHsKICAgICAgICAgICAgZmlsZS5sYXN0TW9kaWZpZWREYXRlID8gZmlsZS5sYXN0TW9kaWZpZWREYXRlLnRvTG9jYWxlRGF0ZVN0cmluZygpIDoKICAgICAgICAgICAgICAgICAgICAgICAgICAgICAgICAgICAgJ24vYSd9IC0gYCkpOwogICAgY29uc3QgcGVyY2VudCA9IHNwYW4oJzAlIGRvbmUnKTsKICAgIGxpLmFwcGVuZENoaWxkKHBlcmNlbnQpOwoKICAgIG91dHB1dEVsZW1lbnQuYXBwZW5kQ2hpbGQobGkpOwoKICAgIGNvbnN0IGZpbGVEYXRhUHJvbWlzZSA9IG5ldyBQcm9taXNlKChyZXNvbHZlKSA9PiB7CiAgICAgIGNvbnN0IHJlYWRlciA9IG5ldyBGaWxlUmVhZGVyKCk7CiAgICAgIHJlYWRlci5vbmxvYWQgPSAoZSkgPT4gewogICAgICAgIHJlc29sdmUoZS50YXJnZXQucmVzdWx0KTsKICAgICAgfTsKICAgICAgcmVhZGVyLnJlYWRBc0FycmF5QnVmZmVyKGZpbGUpOwogICAgfSk7CiAgICAvLyBXYWl0IGZvciB0aGUgZGF0YSB0byBiZSByZWFkeS4KICAgIGxldCBmaWxlRGF0YSA9IHlpZWxkIHsKICAgICAgcHJvbWlzZTogZmlsZURhdGFQcm9taXNlLAogICAgICByZXNwb25zZTogewogICAgICAgIGFjdGlvbjogJ2NvbnRpbnVlJywKICAgICAgfQogICAgfTsKCiAgICAvLyBVc2UgYSBjaHVua2VkIHNlbmRpbmcgdG8gYXZvaWQgbWVzc2FnZSBzaXplIGxpbWl0cy4gU2VlIGIvNjIxMTU2NjAuCiAgICBsZXQgcG9zaXRpb24gPSAwOwogICAgZG8gewogICAgICBjb25zdCBsZW5ndGggPSBNYXRoLm1pbihmaWxlRGF0YS5ieXRlTGVuZ3RoIC0gcG9zaXRpb24sIE1BWF9QQVlMT0FEX1NJWkUpOwogICAgICBjb25zdCBjaHVuayA9IG5ldyBVaW50OEFycmF5KGZpbGVEYXRhLCBwb3NpdGlvbiwgbGVuZ3RoKTsKICAgICAgcG9zaXRpb24gKz0gbGVuZ3RoOwoKICAgICAgY29uc3QgYmFzZTY0ID0gYnRvYShTdHJpbmcuZnJvbUNoYXJDb2RlLmFwcGx5KG51bGwsIGNodW5rKSk7CiAgICAgIHlpZWxkIHsKICAgICAgICByZXNwb25zZTogewogICAgICAgICAgYWN0aW9uOiAnYXBwZW5kJywKICAgICAgICAgIGZpbGU6IGZpbGUubmFtZSwKICAgICAgICAgIGRhdGE6IGJhc2U2NCwKICAgICAgICB9LAogICAgICB9OwoKICAgICAgbGV0IHBlcmNlbnREb25lID0gZmlsZURhdGEuYnl0ZUxlbmd0aCA9PT0gMCA/CiAgICAgICAgICAxMDAgOgogICAgICAgICAgTWF0aC5yb3VuZCgocG9zaXRpb24gLyBmaWxlRGF0YS5ieXRlTGVuZ3RoKSAqIDEwMCk7CiAgICAgIHBlcmNlbnQudGV4dENvbnRlbnQgPSBgJHtwZXJjZW50RG9uZX0lIGRvbmVgOwoKICAgIH0gd2hpbGUgKHBvc2l0aW9uIDwgZmlsZURhdGEuYnl0ZUxlbmd0aCk7CiAgfQoKICAvLyBBbGwgZG9uZS4KICB5aWVsZCB7CiAgICByZXNwb25zZTogewogICAgICBhY3Rpb246ICdjb21wbGV0ZScsCiAgICB9CiAgfTsKfQoKc2NvcGUuZ29vZ2xlID0gc2NvcGUuZ29vZ2xlIHx8IHt9OwpzY29wZS5nb29nbGUuY29sYWIgPSBzY29wZS5nb29nbGUuY29sYWIgfHwge307CnNjb3BlLmdvb2dsZS5jb2xhYi5fZmlsZXMgPSB7CiAgX3VwbG9hZEZpbGVzLAogIF91cGxvYWRGaWxlc0NvbnRpbnVlLAp9Owp9KShzZWxmKTsK",
              "headers": [
                [
                  "content-type",
                  "application/javascript"
                ]
              ],
              "ok": true,
              "status": 200,
              "status_text": ""
            }
          }
        },
        "id": "OIxpAbtI6csY",
        "outputId": "9a0f4116-0e97-4b25-a4f8-23241408cfd6"
      },
      "outputs": [
        {
          "data": {
            "text/html": [
              "\n",
              "     <input type=\"file\" id=\"files-2b3611bd-4cf5-41d7-85d0-c8899727644b\" name=\"files[]\" multiple disabled\n",
              "        style=\"border:none\" />\n",
              "     <output id=\"result-2b3611bd-4cf5-41d7-85d0-c8899727644b\">\n",
              "      Upload widget is only available when the cell has been executed in the\n",
              "      current browser session. Please rerun this cell to enable.\n",
              "      </output>\n",
              "      <script src=\"/nbextensions/google.colab/files.js\"></script> "
            ],
            "text/plain": [
              "<IPython.core.display.HTML object>"
            ]
          },
          "metadata": {},
          "output_type": "display_data"
        },
        {
          "ename": "TypeError",
          "evalue": "ignored",
          "output_type": "error",
          "traceback": [
            "\u001b[0;31m---------------------------------------------------------------------------\u001b[0m",
            "\u001b[0;31mTypeError\u001b[0m                                 Traceback (most recent call last)",
            "\u001b[0;32m<ipython-input-4-52a3e89319ce>\u001b[0m in \u001b[0;36m<module>\u001b[0;34m()\u001b[0m\n\u001b[1;32m      1\u001b[0m \u001b[0;32mfrom\u001b[0m \u001b[0mgoogle\u001b[0m\u001b[0;34m.\u001b[0m\u001b[0mcolab\u001b[0m \u001b[0;32mimport\u001b[0m \u001b[0mfiles\u001b[0m \u001b[0;31m#code to upload data in colab 'always run this in every session'\u001b[0m\u001b[0;34m\u001b[0m\u001b[0;34m\u001b[0m\u001b[0m\n\u001b[0;32m----> 2\u001b[0;31m \u001b[0mupload\u001b[0m \u001b[0;34m=\u001b[0m \u001b[0mfiles\u001b[0m\u001b[0;34m.\u001b[0m\u001b[0mupload\u001b[0m\u001b[0;34m(\u001b[0m\u001b[0;34m)\u001b[0m\u001b[0;34m\u001b[0m\u001b[0;34m\u001b[0m\u001b[0m\n\u001b[0m",
            "\u001b[0;32m/usr/local/lib/python3.7/dist-packages/google/colab/files.py\u001b[0m in \u001b[0;36mupload\u001b[0;34m()\u001b[0m\n\u001b[1;32m     44\u001b[0m   \"\"\"\n\u001b[1;32m     45\u001b[0m \u001b[0;34m\u001b[0m\u001b[0m\n\u001b[0;32m---> 46\u001b[0;31m   \u001b[0muploaded_files\u001b[0m \u001b[0;34m=\u001b[0m \u001b[0m_upload_files\u001b[0m\u001b[0;34m(\u001b[0m\u001b[0mmultiple\u001b[0m\u001b[0;34m=\u001b[0m\u001b[0;32mTrue\u001b[0m\u001b[0;34m)\u001b[0m\u001b[0;34m\u001b[0m\u001b[0;34m\u001b[0m\u001b[0m\n\u001b[0m\u001b[1;32m     47\u001b[0m   \u001b[0;31m# Mapping from original filename to filename as saved locally.\u001b[0m\u001b[0;34m\u001b[0m\u001b[0;34m\u001b[0m\u001b[0;34m\u001b[0m\u001b[0m\n\u001b[1;32m     48\u001b[0m   \u001b[0mlocal_filenames\u001b[0m \u001b[0;34m=\u001b[0m \u001b[0mdict\u001b[0m\u001b[0;34m(\u001b[0m\u001b[0;34m)\u001b[0m\u001b[0;34m\u001b[0m\u001b[0;34m\u001b[0m\u001b[0m\n",
            "\u001b[0;32m/usr/local/lib/python3.7/dist-packages/google/colab/files.py\u001b[0m in \u001b[0;36m_upload_files\u001b[0;34m(multiple)\u001b[0m\n\u001b[1;32m    124\u001b[0m   \u001b[0mfiles\u001b[0m \u001b[0;34m=\u001b[0m \u001b[0m_collections\u001b[0m\u001b[0;34m.\u001b[0m\u001b[0mdefaultdict\u001b[0m\u001b[0;34m(\u001b[0m\u001b[0m_six\u001b[0m\u001b[0;34m.\u001b[0m\u001b[0mbinary_type\u001b[0m\u001b[0;34m)\u001b[0m\u001b[0;34m\u001b[0m\u001b[0;34m\u001b[0m\u001b[0m\n\u001b[1;32m    125\u001b[0m \u001b[0;34m\u001b[0m\u001b[0m\n\u001b[0;32m--> 126\u001b[0;31m   \u001b[0;32mwhile\u001b[0m \u001b[0mresult\u001b[0m\u001b[0;34m[\u001b[0m\u001b[0;34m'action'\u001b[0m\u001b[0;34m]\u001b[0m \u001b[0;34m!=\u001b[0m \u001b[0;34m'complete'\u001b[0m\u001b[0;34m:\u001b[0m\u001b[0;34m\u001b[0m\u001b[0;34m\u001b[0m\u001b[0m\n\u001b[0m\u001b[1;32m    127\u001b[0m     result = _output.eval_js(\n\u001b[1;32m    128\u001b[0m         'google.colab._files._uploadFilesContinue(\"{output_id}\")'.format(\n",
            "\u001b[0;31mTypeError\u001b[0m: 'NoneType' object is not subscriptable"
          ]
        }
      ],
      "source": [
        "from google.colab import files #code to upload data in colab 'always run this in every session' \n",
        "upload = files.upload()\n"
      ]
    },
    {
      "cell_type": "code",
      "execution_count": null,
      "metadata": {
        "colab": {
          "background_save": true
        },
        "id": "-tOEZUFTCsls"
      },
      "outputs": [],
      "source": [
        "data = pd.read_csv('MY2022 Fuel Consumption Ratings.csv')\n",
        "data2 = pd.read_csv('MY2022 Fuel Consumption Ratings.csv')"
      ]
    },
    {
      "cell_type": "code",
      "execution_count": null,
      "metadata": {
        "colab": {
          "background_save": true
        },
        "id": "lelES7R1JwZC"
      },
      "outputs": [],
      "source": [
        "data.shape"
      ]
    },
    {
      "cell_type": "code",
      "execution_count": null,
      "metadata": {
        "colab": {
          "background_save": true
        },
        "id": "4UmBBT4dJTqn"
      },
      "outputs": [],
      "source": [
        "\n",
        "data.isnull().sum()"
      ]
    },
    {
      "cell_type": "code",
      "execution_count": null,
      "metadata": {
        "colab": {
          "background_save": true
        },
        "id": "uP0ugiiQCp2q"
      },
      "outputs": [],
      "source": [
        "data.describe()"
      ]
    },
    {
      "cell_type": "code",
      "execution_count": null,
      "metadata": {
        "colab": {
          "background_save": true
        },
        "id": "XoYBn13HDxN5"
      },
      "outputs": [],
      "source": [
        "data.tail(5)"
      ]
    },
    {
      "cell_type": "code",
      "execution_count": null,
      "metadata": {
        "colab": {
          "background_save": true
        },
        "id": "xsSSrsBPEYpC"
      },
      "outputs": [],
      "source": [
        "\n",
        "x=data[\"Fuel Consumption (City (L/100 km)\"]\n",
        "y=data[\"CO2 Emissions(g/km)\"]\n",
        "plt.scatter(x,y)\n",
        "plt.title(\"Fuel Consumption city to Co2 emission\")\n",
        "plt.xlabel(\"City\")\n",
        "plt.ylabel(\"co2 emmision\")"
      ]
    },
    {
      "cell_type": "code",
      "execution_count": null,
      "metadata": {
        "colab": {
          "background_save": true
        },
        "id": "LvOqfnt2GuuR"
      },
      "outputs": [],
      "source": [
        "sns.regplot(x=\"Fuel Consumption (City (L/100 km)\", y=\"Fuel Consumption(Hwy (L/100 km))\", data=data)\n",
        "plt.ylim(0,)"
      ]
    },
    {
      "cell_type": "code",
      "execution_count": null,
      "metadata": {
        "colab": {
          "background_save": true
        },
        "id": "oM6HibaWHQJ2"
      },
      "outputs": [],
      "source": [
        "x=data[\"Engine Size(L)\"]\n",
        "y=data[\"Fuel Consumption(Comb (mpg))\"]\n",
        "plt.barh(x,y)\n",
        "plt.title(\"Average Fuel Consumption based on Engine\")\n",
        "plt.xlabel(\"Engine Size\")\n",
        "plt.ylabel(\"Fuel Consumption\")\n"
      ]
    },
    {
      "cell_type": "code",
      "execution_count": null,
      "metadata": {
        "colab": {
          "background_save": true
        },
        "id": "rmB8lNVeKZ6F"
      },
      "outputs": [],
      "source": [
        "from matplotlib import pyplot as plt\n",
        "\n",
        "\n",
        "x = data['Model']\n",
        "y = data['Engine Size(L)']\n",
        "plt.title(\"Engine Size per model\")\n",
        "plt.xlabel(\"Model\",fontsize=20)\n",
        "plt.ylabel(\"\")\n",
        "plt.plot(x[:100], y[:100])\n",
        "plt.xaxis.label.set_size(20)\n",
        "\n",
        "plt.show()"
      ]
    },
    {
      "cell_type": "code",
      "execution_count": null,
      "metadata": {
        "colab": {
          "background_save": true
        },
        "id": "WYBuX6dROPiD"
      },
      "outputs": [],
      "source": [
        "fc_T6 = data.iloc[945,[8,9,10,11]]\n",
        "fc_T6.head()"
      ]
    },
    {
      "cell_type": "code",
      "execution_count": null,
      "metadata": {
        "colab": {
          "background_save": true
        },
        "id": "0-g1LTt4Q0yG"
      },
      "outputs": [],
      "source": [
        "fc_T6.plot(kind='line', rot = 90)"
      ]
    },
    {
      "cell_type": "code",
      "execution_count": null,
      "metadata": {
        "colab": {
          "background_save": true
        },
        "id": "6l2Y1Ju0RSHH"
      },
      "outputs": [],
      "source": [
        "#Scatter Plot Matplotlib\n",
        "import matplotlib.pyplot as plt\n",
        "plt.scatter(data = pd.read_csv('MY2022 Fuel Consumption Ratings.csv'),x =\"Vehicle Class\", y =\"CO2 Emissions(g/km)\", color ='red')\n",
        "#plt.scatter(data = data2,x =\"Class\", y =\"CO2 Rating\",color ='blue')\n",
        "\n",
        "plt.show()\n"
      ]
    },
    {
      "cell_type": "code",
      "execution_count": null,
      "metadata": {
        "colab": {
          "background_save": true
        },
        "id": "KjH6eVomRkhJ"
      },
      "outputs": [],
      "source": [
        "#Scatter Plot Seaborn\n",
        "sns.scatterplot(data = pd.read_csv('MY2022 Fuel Consumption Ratings.csv'), x=\"Fuel Consumption(Hwy (L/100 km))\", y=\"CO2 Emissions(g/km)\",hue='CO2 Rating')\n"
      ]
    },
    {
      "cell_type": "code",
      "execution_count": null,
      "metadata": {
        "colab": {
          "background_save": true
        },
        "id": "CuEmbGcuRmkH"
      },
      "outputs": [],
      "source": [
        "#Scatter plot Ploty\n",
        "import plotly.express as px\n",
        "df = px.data.iris()\n",
        "fig = px.scatter(data, x=\"Fuel Consumption(Comb (L/100 km))\", y=\"CO2 Emissions(g/km)\", color=\"CO2 Rating\")\n",
        "fig.show()\n"
      ]
    },
    {
      "cell_type": "code",
      "execution_count": null,
      "metadata": {
        "colab": {
          "background_save": true
        },
        "id": "X3UKJGWkRpGA"
      },
      "outputs": [],
      "source": [
        "#Scatter plot Ploty\n",
        "\n",
        "# ----------------THIS IS DONE DONT TOUCH-----------------\n",
        "\n",
        "import plotly.express as px\n",
        "import pandas as pd  \n",
        "df = data\n",
        "df.head(15)\n",
        "  \n",
        "fig = px.scatter(df, x =\"Model\", y =\"CO2 Emissions(g/km)\",color ='Make')\n",
        "fig.show()"
      ]
    },
    {
      "cell_type": "code",
      "execution_count": null,
      "metadata": {
        "colab": {
          "base_uri": "https://localhost:8080/",
          "height": 542
        },
        "id": "ZOUc188dxQvh",
        "outputId": "709399b2-303b-4c24-be4b-97906cf941ea"
      },
      "outputs": [
        {
          "data": {
            "text/html": [
              "<html>\n",
              "<head><meta charset=\"utf-8\" /></head>\n",
              "<body>\n",
              "    <div>            <script src=\"https://cdnjs.cloudflare.com/ajax/libs/mathjax/2.7.5/MathJax.js?config=TeX-AMS-MML_SVG\"></script><script type=\"text/javascript\">if (window.MathJax) {MathJax.Hub.Config({SVG: {font: \"STIX-Web\"}});}</script>                <script type=\"text/javascript\">window.PlotlyConfig = {MathJaxConfig: 'local'};</script>\n",
              "        <script src=\"https://cdn.plot.ly/plotly-2.8.3.min.js\"></script>                <div id=\"933b91b7-e091-4517-99c4-e2ffa4bce54e\" class=\"plotly-graph-div\" style=\"height:525px; width:100%;\"></div>            <script type=\"text/javascript\">                                    window.PLOTLYENV=window.PLOTLYENV || {};                                    if (document.getElementById(\"933b91b7-e091-4517-99c4-e2ffa4bce54e\")) {                    Plotly.newPlot(                        \"933b91b7-e091-4517-99c4-e2ffa4bce54e\",                        [{\"hovertemplate\":\"Model=%{x}<br>CO2 Emissions(g/km)=%{y}<br>CO2 Rating=%{marker.color}<extra></extra>\",\"legendgroup\":\"\",\"marker\":{\"color\":[6,4,5,5,5,5,5,4,6,5,4,5,5,4,4,3,3,3,4,7,6,6,6,5,6,6,6,5,5,5,5,5,5,5,5,5,5,4,4,3,3,3,3,4,4,3,3,2,6,5,5,5,5,5,5,3,4,4,3,3,5,5,5,5,3,2,4,2,4,2,3,2,6,6,6,6,5,4,4,4,4,3,5,5,4,4,4,5,3,4,4,4,5,5,5,3,3,3,4,3,3,3,3,3,3,3,4,4,4,5,6,6,5,3,3,5,5,3,3,5,5,2,2,3,5,2,2,3,5,3,6,5,1,1,1,4,4,6,5,6,6,6,5,5,6,5,5,5,5,5,4,3,6,5,5,4,4,4,3,3,4,3,3,5,5,5,5,4,5,4,5,5,5,4,5,5,5,4,4,4,3,3,5,4,4,4,4,4,3,3,4,6,6,7,5,4,5,3,3,3,3,3,3,4,4,4,3,3,2,2,3,2,3,3,3,3,2,2,2,3,3,3,3,2,2,7,7,4,3,3,4,3,3,3,3,4,3,3,4,3,3,3,3,6,7,6,4,4,6,5,5,4,4,5,5,4,5,4,3,3,3,4,3,3,3,3,2,3,5,4,3,4,3,2,4,3,2,5,4,4,4,3,3,3,3,3,3,3,3,5,5,5,5,5,4,6,6,5,8,8,3,3,3,3,5,5,4,4,4,5,5,4,4,5,4,4,3,4,3,4,4,4,5,4,3,3,3,3,4,3,2,2,2,3,3,5,5,2,5,8,5,5,5,5,5,4,3,5,5,5,5,5,3,3,3,5,4,4,2,5,5,5,5,5,5,5,5,4,5,4,3,5,4,5,4,5,5,5,4,5,4,4,4,4,4,4,5,3,3,3,3,3,3,4,4,3,3,2,2,3,2,3,3,3,3,2,2,3,3,3,2,6,5,4,3,3,4,3,3,3,3,4,3,3,4,3,3,3,3,7,7,5,9,8,7,7,7,6,7,7,7,7,7,6,6,6,6,5,4,5,4,4,7,7,7,6,5,5,9,9,10,7,5,6,6,4,5,5,5,7,6,6,6,9,6,5,7,5,5,7,6,5,4,5,4,5,5,5,3,5,5,4,3,4,3,3,3,5,5,5,5,5,5,4,5,5,4,4,4,4,5,3,4,3,4,2,6,5,5,3,5,4,4,4,5,5,4,4,4,4,2,5,6,7,7,6,7,6,6,9,9,9,7,7,6,6,6,5,5,7,6,5,4,5,4,4,1,1,1,2,2,2,2,2,4,4,3,3,4,3,4,4,4,4,3,3,3,2,4,4,4,3,6,9,5,5,3,5,5,5,4,4,3,6,4,5,4,6,5,5,8,5,5,4,5,4,6,6,7,8,4,5,5,5,5,4,3,4,4,4,3,3,3,3,3,4,4,4,4,3,7,6,6,6,6,5,5,5,5,5,7,7,6,6,6,7,6,6,6,6,5,6,6,6,6,5,5,5,5,5,5,5,5,5,5,5,4,4,4,4,4,4,4,5,5,6,5,5,5,5,5,5,5,5,5,5,5,5,5,4,3,4,4,4,5,4,7,7,7,7,7,7,5,7,5,7,5,6,6,6,5,6,5,5,6,5,5,8,8,6,6,5,5,6,6,2,4,4,7,5,5,5,6,5,6,7,6,7,6,6,7,7,6,6,7,7,5,5,5,5,5,4,4,4,5,5,5,5,5,4,4,4,4,4,4,4,4,4,4,4,4,4,4,4,4,4,4,4,4,4,4,4,4,4,4,4,3,3,3,3,4,4,4,4,4,3,3,3,3,4,4,3,3,3,3,3,3,3,4,4,4,4,4,4,4,4,4,4,3,3,3,3,3,5,5,5,5,3,4,4,4,3,4,1,4,3,4,3,5,2,2,2,2,2,2,2,5,5,5,6,5,6,6,5,7,5,7,5,6,6,5,6,5,4,5,3,3,6,7,7,5,5,6,6,9,9,7,7,7,7,7,7,7,7,7,9,7,6,5,5,6,5,5,7,7,9,9,6,7,6,6,6,6,8,2,7,7,4,3,3,4,4,4,4,4,8,5,4,5,4,6,6,5,5,7,7,7,6,6,6,7,6,5,5,6,6,5,5,5,5,5,5,5,5,5,5],\"coloraxis\":\"coloraxis\",\"symbol\":\"circle\"},\"mode\":\"markers\",\"name\":\"\",\"orientation\":\"v\",\"showlegend\":false,\"x\":[\"ILX\",\"MDX SH-AWD\",\"RDX SH-AWD\",\"RDX SH-AWD A-SPEC\",\"TLX SH-AWD\",\"TLX SH-AWD A-SPEC\",\"TLX Type S\",\"TLX Type S (Performance Tire)\",\"Giulia\",\"Giulia AWD\",\"Giulia Quadrifoglio\",\"Stelvio\",\"Stelvio AWD\",\"Stelvio AWD Quadrifoglio\",\"DB11 V8\",\"DB11 V12\",\"DBS V12\",\"DBX V8\",\"Vantage V8\",\"A3 Sedan 40 TFSI quattro\",\"A4 Sedan 40 TFSI quattro\",\"A4 Sedan 45 TFSI quattro\",\"A4 allroad 45 TFSI quattro\",\"A5 Cabriolet 45 TFSI quattro\",\"A5 Coupe 45 TFSI quattro\",\"A5 Sportback 45 TFSI quattro\",\"A6 Sedan 45 TFSI quattro\",\"A6 Sedan 55 TFSI quattro\",\"A6 allroad 55 TFSI quattro\",\"A7 Sportback 55 TFSI quattro\",\"A8 L Sedan 55 TFSI quattro\",\"Q3 40 TFSI quattro\",\"Q3 45 TFSI quattro\",\"Q5 40 TFSI quattro\",\"Q5 45 TFSI quattro\",\"Q5 Sportback 45 TFSI quattro\",\"Q7 45 TFSI quattro\",\"Q7 55 TFSI quattro\",\"Q8 55 TFSI quattro\",\"R8 Coupe Performance\",\"R8 Coupe Performance quattro\",\"R8 Spyder Performance\",\"R8 Spyder Performance quattro\",\"RS 5 Coupe quattro\",\"RS 5 Sportback quattro\",\"RS 6 Avant quattro\",\"RS 7 Sportback quattro\",\"RS Q8 quattro\",\"S3 Sedan quattro\",\"S4 Sedan quattro\",\"S5 Cabriolet quattro\",\"S5 Coupe quattro\",\"S5 Sportback quattro\",\"S6 Sedan quattro\",\"S7 Sportback quattro\",\"S8 Sedan quattro\",\"SQ5 quattro\",\"SQ5 Sportback quattro\",\"SQ7 quattro\",\"SQ8 quattro\",\"TT Coupe 45 TFSI quattro\",\"TT Roadster 45 TFSI quattro\",\"TT RS Coupe quattro\",\"TTS Coupe quattro\",\"Bentayga\",\"Bentayga Speed\",\"Continental GT\",\"Continental GT Speed\",\"Continental GT Convertible\",\"Continental GT Convertible Speed\",\"Flying Spur\",\"Flying Spur\",\"330i xDrive Sedan\",\"430i xDrive Cabriolet\",\"430i xDrive Coupe\",\"530i xDrive Sedan\",\"540i xDrive Sedan\",\"750i xDrive Sedan\",\"750Li xDrive Sedan\",\"Alpina B7\",\"Alpina B8 Gran Coupe\",\"Alpina XB7\",\"M235i xDrive Gran Coupe\",\"M240i xDrive Coupe\",\"M3 Sedan\",\"M3 Competition Sedan\",\"M3 Competition Sedan M xDrive\",\"M340i xDrive Sedan\",\"M4 Competition Cabriolet M xDrive\",\"M4 Coupe\",\"M4 Competition Coupe\",\"M4 Competition Coupe M xDrive\",\"M440i xDrive Cabriolet\",\"M440i xDrive Coupe\",\"M440i xDrive Gran Coupe\",\"M5 Sedan\",\"M5 Competition\",\"M5 CS\",\"M550i xDrive Sedan\",\"M760i xDrive Sedan\",\"M8 Cabriolet\",\"M8 Cabriolet Competition\",\"M8 Coupe\",\"M8 Coupe Competition\",\"M8 Gran Coupe\",\"M8 Gran Coupe Competition\",\"M850i xDrive Cabriolet\",\"M850i xDrive Coupe\",\"M850i xDrive Gran Coupe\",\"X1 xDrive28i\",\"X2 xDrive28i\",\"X2 M35i\",\"X3 xDrive30i\",\"X3 M\",\"X3 M Competition\",\"X3 M40i\",\"X4 xDrive30i\",\"X4 M\",\"X4 M Competition\",\"X4 M40i\",\"X5 xDrive40i\",\"X5 M\",\"X5 M Competition\",\"X5 M50i\",\"X6 xDrive40i\",\"X6 M\",\"X6 M Competition\",\"X6 M50i\",\"X7 xDrive40i\",\"X7 M50i\",\"Z4 sDrive30i\",\"Z4 M40i\",\"Chiron\",\"Chiron Pur Sport\",\"Chiron Super Sport\",\"Enclave\",\"Enclave AWD\",\"Encore\",\"Encore AWD\",\"Encore GX\",\"Encore GX\",\"Encore GX AWD\",\"Envision\",\"Envision AWD\",\"CT4\",\"CT4\",\"CT4 AWD\",\"CT4 AWD\",\"CT4-V\",\"CT4-V AWD\",\"CT4-V Blackwing\",\"CT4-V Blackwing\",\"CT5\",\"CT5\",\"CT5 AWD\",\"CT5 AWD\",\"CT5-V\",\"CT5-V AWD\",\"CT5-V Blackwing\",\"CT5-V Blackwing\",\"Escalade 4WD\",\"Escalade 4WD\",\"Escalade 4WD (No Stop-Start)\",\"XT4\",\"XT4 AWD\",\"XT5\",\"XT5 AWD\",\"XT5 AWD\",\"XT6 AWD\",\"XT6 AWD\",\"Blazer\",\"Blazer\",\"Blazer AWD\",\"Blazer AWD\",\"Camaro\",\"Camaro\",\"Camaro\",\"Camaro\",\"Camaro SS\",\"Camaro SS\",\"Camaro ZL1\",\"Camaro ZL1\",\"Colorado\",\"Colorado\",\"Colorado\",\"Colorado 4WD\",\"Colorado 4WD\",\"Colorado 4WD\",\"Colorado ZR2 4WD\",\"Colorado ZR2 4WD\",\"Corvette\",\"Equinox\",\"Equinox AWD\",\"Malibu\",\"Malibu\",\"Silverado\",\"Silverado\",\"Silverado FFV\",\"Silverado FFV\",\"Silverado\",\"Silverado\",\"Silverado 4WD\",\"Silverado 4WD Mud Terrain Tire\",\"Silverado 4WD\",\"Silverado 4WD (With Sport Mode)\",\"Silverado 4WD Mud Terrain Tire\",\"Silverado 4WD FFV\",\"Silverado 4WD FFV\",\"Silverado 4WD Mud Terrain Tire FFV\",\"Silverado 4WD Mud Terrain Tire FFV\",\"Silverado 4WD\",\"Silverado 4WD Mud Terrain Tire\",\"Silverado 4WD\",\"Silverado 4WD (No DFM)\",\"Silverado 4WD (With Sport Mode)\",\"Silverado 4WD (No Stop-Start)\",\"Silverado 4WD Mud Terrain Tire\",\"Silverado 4WD Mud Terrain Tire (No Stop-Start)\",\"Silverado 4WD Mud Terrain Tire (No DFM)\",\"Silverado 4WD\",\"Silverado 4WD (No Stop-Start)\",\"Silverado 4WD Custom Trail Boss\",\"Silverado 4WD Mud Terrain Tire\",\"Silverado 4WD Mud Terrain Tire (No Stop-Start)\",\"Silverado 4WD ZR2\",\"Spark\",\"Spark\",\"Suburban\",\"Suburban\",\"Suburban (No Stop-Start)\",\"Suburban 4WD\",\"Suburban 4WD\",\"Suburban 4WD (No Stop-Start)\",\"Suburban 4WD\",\"Suburban 4WD (No Stop-Start)\",\"Tahoe\",\"Tahoe\",\"Tahoe (No Stop-Start)\",\"Tahoe 4WD\",\"Tahoe 4WD\",\"Tahoe 4WD (No Stop-Start)\",\"Tahoe 4WD\",\"Tahoe 4WD (No Stop-Start)\",\"Trailblazer\",\"Trailblazer\",\"Trailblazer AWD\",\"Traverse\",\"Traverse AWD\",\"Trax\",\"Trax AWD\",\"300\",\"300\",\"300 AWD\",\"Grand Caravan\",\"Pacifica\",\"Pacifica AWD\",\"Challenger\",\"Challenger (MDS)\",\"Challenger\",\"Challenger (MDS)\",\"Challenger\",\"Challenger AWD\",\"Challenger Widebody (MDS)\",\"Challenger Widebody\",\"Challenger SRT Hellcat\",\"Challenger SRT Hellcat\",\"Challenger SRT Hellcat Widebody\",\"Challenger SRT Hellcat Widebody\",\"Charger\",\"Charger (MDS)\",\"Charger (MDS)\",\"Charger AWD\",\"Charger Widebody (MDS)\",\"Charger SRT Hellcat Widebody\",\"Durango AWD\",\"Durango AWD\",\"Durango AWD SRT\",\"500X AWD\",\"Bronco 4WD\",\"Bronco 4WD\",\"Bronco 4WD\",\"Bronco Badlands 4WD\",\"Bronco Badlands 4WD\",\"Bronco Badlands 4WD\",\"Bronco Black Diamond 4WD\",\"Bronco Black Diamond 4WD\",\"Bronco Sasquatch 4WD\",\"Bronco Sasquatch 4WD\",\"Bronco Sasquatch 4WD\",\"Bronco Sport 4WD\",\"Bronco Sport 4WD\",\"EcoSport AWD\",\"Edge AWD\",\"Edge AWD\",\"Edge AWD\",\"Escape\",\"Escape AWD\",\"Escape AWD\",\"Escape Hybrid\",\"Escape Hybrid AWD\",\"Expedition 4X4\",\"Expedition 4X4 (Without Stop-Start)\",\"Expedition Timberline 4X4\",\"Expedition Timberline 4X4 (Without Stop-Start)\",\"Explorer AWD\",\"Explorer AWD (Without Stop-Start)\",\"Explorer Timberline AWD\",\"Explorer Timberline AWD (Without Stop-Start)\",\"Explorer AWD\",\"Explorer Hybrid AWD\",\"F-150\",\"F-150 (Without Stop-Start)\",\"F-150 FFV\",\"F-150 FFV\",\"F-150\",\"F-150 (Without Stop-Start)\",\"F-150 FFV\",\"F-150 FFV\",\"F-150 FFV (Without Stop-Start)\",\"F-150 FFV (Without Stop-Start)\",\"F-150 4X4\",\"F-150 4X4 FFV\",\"F-150 4X4 FFV\",\"F-150 4X4\",\"F-150 4X4 (Without Stop-Start)\",\"F-150 4X4 FFV\",\"F-150 4X4 FFV\",\"F-150 4X4 FFV (Without Stop-Start)\",\"F-150 4X4 FFV (Without Stop-Start)\",\"F-150 Raptor 4X4\",\"F-150 Raptor 4X4 (Without Stop-Start)\",\"F-150 Raptor 37 4X4\",\"F-150 Raptor 37 4X4 (Without Stop-Start)\",\"F-150 Tremor 4X4\",\"F-150 Tremor 4X4 (Without Stop-Start)\",\"F-150 Hybrid\",\"F-150 Hybrid 4X4\",\"GT\",\"Maverick AWD\",\"Maverick Hybrid\",\"Mustang\",\"Mustang\",\"Mustang (High Performance)\",\"Mustang\",\"Mustang (High Performance)\",\"Mustang\",\"Mustang\",\"Mustang Convertible\",\"Mustang Convertible\",\"Mustang Convertible (High Performance)\",\"Mustang Convertible\",\"Mustang Convertible (High Performance)\",\"Mustang Convertible\",\"Mustang Mach 1\",\"Mustang Mach 1\",\"Ranger 4WD\",\"Ranger 4WD (Without Stop-Start)\",\"Ranger 4WD Tremor\",\"Shelby GT500 Mustang\",\"Transit Connect Van\",\"Transit Connect Van FFV\",\"Transit Connect Van FFV\",\"Transit Connect Van\",\"Transit Connect Wagon LWB\",\"Transit Connect Wagon LWB FFV\",\"Transit Connect Wagon LWB FFV\",\"Transit Connect Wagon LWB\",\"G70 AWD\",\"G80 AWD\",\"G80 AWD\",\"G90 AWD\",\"GV70 AWD\",\"GV70 AWD\",\"GV80 AWD\",\"GV80 AWD\",\"Acadia\",\"Acadia\",\"Acadia AWD\",\"Acadia AWD\",\"Canyon\",\"Canyon\",\"Canyon\",\"Canyon 4WD\",\"Canyon 4WD\",\"Canyon 4WD\",\"Sierra\",\"Sierra\",\"Sierra FFV\",\"Sierra FFV\",\"Sierra\",\"Sierra\",\"Sierra 4WD\",\"Sierra 4WD Mud Terrain Tire\",\"Sierra 4WD\",\"Sierra 4WD Mud Terrain Tire\",\"Sierra 4WD FFV\",\"Sierra 4WD FFV\",\"Sierra 4WD Mud Terrain Tire FFV\",\"Sierra 4WD Mud Terrain Tire FFV\",\"Sierra 4WD\",\"Sierra 4WD Mud Terrain Tire\",\"Sierra 4WD\",\"Sierra 4WD (No DFM)\",\"Sierra 4WD (With Sport Mode)\",\"Sierra 4WD (No Stop-Start)\",\"Sierra 4WD Mud Terrain Tire\",\"Sierra 4WD Mud Terrain Tire (No DFM)\",\"Sierra 4WD\",\"Sierra 4WD (No Stop-Start)\",\"Sierra 4WD Mud Terrain Tire\",\"Sierra 4WD Mud Terrain Tire (No Stop-Start)\",\"Terrain\",\"Terrain AWD\",\"Yukon\",\"Yukon\",\"Yukon (No Stop-Start)\",\"Yukon 4WD\",\"Yukon 4WD\",\"Yukon 4WD (No Stop-Start)\",\"Yukon 4WD\",\"Yukon 4WD (No Stop-Start)\",\"Yukon XL\",\"Yukon XL\",\"Yukon XL (No Stop-Start)\",\"Yukon XL 4WD\",\"Yukon XL 4WD\",\"Yukon XL 4WD (No Stop-Start)\",\"Yukon XL 4WD\",\"Yukon XL 4WD (No Stop-Start)\",\"Accord\",\"Accord Sport/Touring\",\"Accord Sport/Touring\",\"Accord Hybrid\",\"Accord Hybrid Sport/Touring\",\"Civic Hatchback\",\"Civic Hatchback\",\"Civic Hatchback\",\"Civic Hatchback\",\"Civic Sedan\",\"Civic Sedan\",\"Civic Sedan\",\"Civic Sedan Si\",\"CR-V\",\"CR-V AWD\",\"HR-V\",\"HR-V AWD\",\"HR-V AWD\",\"Odyssey\",\"Passport AWD\",\"Pilot AWD\",\"Pilot AWD TrailSport\",\"Ridgeline AWD\",\"Elantra\",\"Elantra\",\"Elantra (ISG)\",\"Elantra\",\"Elantra N\",\"Elantra N\",\"Elantra Hybrid Blue\",\"IONIQ\",\"IONIQ Blue\",\"Kona\",\"Kona N\",\"Kona AWD\",\"Kona AWD\",\"Palisade AWD\",\"Santa Cruz AWD\",\"Santa Fe AWD\",\"Santa Fe AWD\",\"Santa Fe Hybrid\",\"Sonata\",\"Sonata\",\"Sonata\",\"Sonata Hybrid\",\"Tucson\",\"Tucson AWD\",\"Tucson Hybrid\",\"Veloster N\",\"Veloster N\",\"Venue\",\"Venue\",\"Q50 AWD\",\"Q50 AWD Red Sport\",\"Q60 AWD\",\"Q60 AWD Red Sport\",\"QX50 AWD\",\"QX55 AWD\",\"QX60 AWD\",\"QX80 4WD\",\"E-PACE P250\",\"E-PACE P300\",\"F-TYPE P450 Convertible\",\"F-TYPE P450 Convertible AWD\",\"F-TYPE P450 Coupe\",\"F-TYPE P450 Coupe AWD\",\"F-TYPE R Convertible AWD\",\"F-TYPE R Coupe AWD\",\"Cherokee\",\"Cherokee\",\"Cherokee\",\"Cherokee 4X4 Active Drive I\",\"Cherokee 4X4 Active Drive I\",\"Cherokee 4X4 Active Drive I\",\"Cherokee 4X4 Active Drive Lock\",\"Compass\",\"Compass 4X4\",\"Gladiator 4X4 EcoDiesel\",\"Gladiator 4X4 Rubicon EcoDiesel\",\"Gladiator 4X4\",\"Gladiator 4X4\",\"Grand Cherokee 4X4\",\"Grand Cherokee 4X4\",\"Grand Cherokee L 4X4\",\"Grand Cherokee L 4X4\",\"Grand Cherokee WK 4X4\",\"Grand Wagoneer 4X4\",\"Renegade\",\"Renegade 4X4\",\"Renegade 4X4 Trailhawk\",\"Wagoneer 4X4\",\"Wrangler JL 4X4\",\"Wrangler JL 4X4\",\"Wrangler JL 4X4 eTorque\",\"Wrangler JL 4X4\",\"Wrangler JL Unlimited 4X4\",\"Wrangler JL Unlimited 4X4 EcoDiesel\",\"Wrangler JL Unlimited 4X4 Rubicon EcoDiesel\",\"Wrangler JL Unlimited 4X4\",\"Wrangler JL Unlimited 4X4 eTorque\",\"Wrangler JL Unlimited 4X4\",\"Wrangler JL Unlimited 4X4\",\"Carnival\",\"Forte\",\"Forte\",\"Forte\",\"Forte 5\",\"Forte 5\",\"K5\",\"K5 AWD\",\"Niro\",\"Niro FE\",\"Niro Touring\",\"Rio\",\"Rio\",\"Seltos\",\"Seltos AWD\",\"Seltos AWD\",\"Sorento AWD\",\"Sorento AWD\",\"Sorento Hybrid AWD\",\"Soul\",\"Sportage\",\"Sportage AWD\",\"Sportage AWD\",\"Stinger AWD\",\"Telluride AWD\",\"Aventador Countach\",\"Aventador Coupe\",\"Aventador Roadster\",\"Huracan evo Coupe\",\"Huracan evo Coupe AWD\",\"Huracan evo Spyder\",\"Huracan evo Spyder AWD\",\"Urus\",\"Defender 90 P300\",\"Defender 90 P400\",\"Defender 90 5.0L V8\",\"Defender 110 P300\",\"Defender 110 P400\",\"Defender 110 5.0L V8\",\"Discovery P300\",\"Discovery P360\",\"Range Rover P360\",\"Range Rover P400\",\"Range Rover P525\",\"Range Rover P525 LWB\",\"Range Rover SVAutobiography\",\"Range Rover SVAutobiography LWB\",\"Range Rover Sport P360\",\"Range Rover Sport HST P400\",\"Range Rover Sport P525\",\"Range Rover Sport P575 SVR\",\"ES 250 AWD\",\"ES 300h\",\"ES 350\",\"ES 350 F SPORT\",\"GX 460\",\"IS 300\",\"IS 300 AWD\",\"IS 350 AWD\",\"IS 500\",\"LC 500\",\"LC 500 Convertible\",\"LC 500h\",\"LS 500 AWD\",\"LS 500h AWD\",\"LX 600\",\"NX 250 AWD\",\"NX 350 AWD\",\"NX 350 AWD F SPORT\",\"NX 350h AWD\",\"RC 300 AWD\",\"RC 350 AWD\",\"RC F\",\"RX 350 AWD\",\"RX 350 L AWD\",\"RX 450h AWD\",\"RX 450h L AWD\",\"UX 200\",\"UX 250h AWD\",\"Aviator AWD\",\"Corsair AWD\",\"Corsair AWD\",\"Nautilus AWD\",\"Nautilus AWD\",\"Nautilus AWD\",\"Navigator 4X4\",\"Ghibli GT\",\"Ghibli Modena\",\"Ghibli Modena AWD\",\"Ghibli Trofeo\",\"Levante GT\",\"Levante Modena\",\"Levante Modena V8\",\"Levante Trofeo\",\"MC20\",\"Quattroporte GT\",\"Quattroporte Modena\",\"Quattroporte Modena AWD\",\"Quattroporte Trofeo\",\"CX-3\",\"CX-3 (SIL)\",\"CX-3 4WD\",\"CX-30 4WD\",\"CX-30 4WD\",\"CX-30 Turbo 4WD\",\"CX-5 4WD\",\"CX-5 4WD (Cylinder Deactivation)\",\"CX-5 Turbo 4WD\",\"CX-9 4WD\",\"Mazda3 4-Door\",\"Mazda3 4-Door (SIL)\",\"Mazda3 4-Door\",\"Mazda3 4-Door 4WD\",\"Mazda3 4-Door Turbo 4WD\",\"Mazda3 5-Door\",\"Mazda3 5-Door (SIL)\",\"Mazda3 5-Door\",\"Mazda3 5-Door (SIL)\",\"Mazda3 5-Door 4WD\",\"Mazda3 5-Door Turbo 4WD\",\"MX-5\",\"MX-5 (SIL)\",\"A 220 4MATIC Sedan\",\"A 250 4MATIC Hatch\",\"AMG A 35 4MATIC Sedan\",\"AMG A 35 4MATIC Hatch\",\"AMG C 43 4MATIC Cabriolet\",\"AMG C 43 4MATIC Coupe\",\"AMG CLA 35 4MATIC Coupe\",\"AMG CLA 45 4MATIC Coupe\",\"AMG CLS 53 4MATIC+ Coupe\",\"AMG E 53 4MATIC+ Sedan\",\"AMG E 53 4MATIC+ Cabriolet\",\"AMG E 53 4MATIC+ Coupe\",\"AMG GLA 35 4MATIC SUV\",\"AMG GLA 45 4MATIC SUV\",\"AMG GLB 35 4MATIC SUV\",\"AMG GLC 43 4MATIC SUV\",\"AMG GLC 43 4MATIC Coupe\",\"AMG GLE 53 4MATIC+ SUV\",\"AMG GLE 53 4MATIC+ Coupe\",\"AMG GT 53 4MATIC+ Coupe\",\"C 300 4MATIC Cabriolet\",\"C 300 4MATIC Coupe\",\"CLA 250 4MATIC Coupe\",\"CLS 450 4MATIC Coupe\",\"E 350 4MATIC Sedan\",\"E 450 4MATIC Sedan\",\"E 450 4MATIC Cabriolet\",\"E 450 4MATIC Coupe\",\"E 450 4MATIC All-Terrain Wagon\",\"GLA 250 4MATIC SUV\",\"GLB 250 4MATIC SUV\",\"GLC 300 4MATIC SUV\",\"GLC 300 4MATIC Coupe\",\"GLE 350 4MATIC SUV\",\"GLE 450 4MATIC SUV\",\"GLE 450 4MATIC Coupe\",\"GLS 450 4MATIC SUV\",\"Maybach S 580 4MATIC Sedan\",\"Metris Cargo Van\",\"Metris Cargo Van LWB\",\"Metris Passenger Van\",\"S 500 4MATIC SWB Sedan\",\"S 580 4MATIC LWB Sedan\",\"Cooper 3 Door\",\"Cooper 3 Door\",\"Cooper 5 Door\",\"Cooper 5 Door\",\"Cooper Convertible\",\"Cooper Convertible\",\"Cooper Countryman ALL4\",\"Cooper S 3 Door\",\"Cooper S 3 Door\",\"Cooper S 5 Door\",\"Cooper S 5 Door\",\"Cooper S Clubman ALL4\",\"Cooper S Convertible\",\"Cooper S Convertible\",\"Cooper S Countryman ALL4\",\"John Cooper Works 3 Door\",\"John Cooper Works 3 Door\",\"John Cooper Works Clubman ALL4\",\"John Cooper Works Convertible\",\"John Cooper Works Countryman ALL4\",\"Eclipse Cross 4WD\",\"Mirage\",\"Mirage\",\"Outlander 4WD\",\"RVR\",\"RVR 4WD\",\"RVR 4WD\",\"Altima AWD\",\"Altima AWD SR/Platinum\",\"Armada 4WD\",\"Frontier\",\"Frontier 4WD\",\"Kicks\",\"Maxima\",\"Murano AWD\",\"Pathfinder 4WD\",\"Qashqai\",\"Qashqai\",\"Qashqai AWD\",\"Rogue\",\"Rogue\",\"Rogue AWD\",\"Rogue AWD SL/Platinum\",\"Rogue AWD\",\"Sentra\",\"Sentra SR\",\"Sentra\",\"Sentra SR\",\"Versa\",\"Versa\",\"718 Boxster\",\"718 Boxster\",\"718 Boxster T\",\"718 Boxster T\",\"718 Boxster S\",\"718 Boxster S\",\"718 Boxster GTS 4.0\",\"718 Boxster GTS 4.0\",\"718 Cayman\",\"718 Cayman\",\"718 Cayman T\",\"718 Cayman T\",\"718 Cayman S\",\"718 Cayman S\",\"718 Cayman GT4\",\"718 Cayman GT4\",\"718 Cayman GTS 4.0\",\"718 Cayman GTS 4.0\",\"718 Spyder\",\"718 Spyder\",\"911 Carrera\",\"911 Carrera Cabriolet\",\"911 Carrera 4\",\"911 Carrera 4 Cabriolet\",\"911 Carrera S\",\"911 Carrera S\",\"911 Carrera S Cabriolet\",\"911 Carrera S Cabriolet\",\"911 Carrera 4S\",\"911 Carrera 4S\",\"911 Carrera 4S Cabriolet\",\"911 Carrera 4S Cabriolet\",\"911 Carrera GTS\",\"911 Carrera GTS\",\"911 Carrera GTS Cabriolet\",\"911 Carrera GTS Cabriolet\",\"911 Carrera 4 GTS\",\"911 Carrera 4 GTS\",\"911 Carrera 4 GTS Cabriolet\",\"911 Carrera 4 GTS Cabriolet\",\"911 GT3\",\"911 GT3\",\"911 GT3 Touring\",\"911 GT3 Touring\",\"911 Targa 4\",\"911 Targa 4S\",\"911 Targa 4S\",\"911 Targa 4 GTS\",\"911 Targa 4 GTS\",\"911 Turbo\",\"911 Turbo Cabriolet\",\"911 Turbo S\",\"911 Turbo S Cabriolet\",\"Cayenne\",\"Cayenne Coupe\",\"Cayenne S\",\"Cayenne S Coupe\",\"Cayenne GTS\",\"Cayenne GTS Coupe\",\"Cayenne Turbo\",\"Cayenne Turbo Coupe\",\"Cayenne Turbo GT\",\"Macan\",\"Macan S\",\"Macan GTS\",\"Panamera\",\"Panamera 4\",\"Panamera 4 Executive\",\"Panamera 4 ST\",\"Panamera 4S\",\"Panamera 4S Executive\",\"Panamera 4S ST\",\"Panamera GTS\",\"Panamera GTS ST\",\"Panamera Turbo S\",\"Panamera Turbo S Executive\",\"Panamera Turbo S ST\",\"1500 EcoDiesel\",\"1500 HFE EcoDiesel\",\"1500 eTorque\",\"1500 HFE eTorque\",\"1500\",\"1500 eTorque\",\"1500 4X4 EcoDiesel\",\"1500 4X4 eTorque\",\"1500 4X4\",\"1500 4X4 eTorque\",\"1500 4X4 TRX\",\"1500 Classic\",\"1500 Classic\",\"1500 Classic 4X4\",\"1500 Classic 4X4\",\"ProMaster City\",\"Cullinan\",\"Cullinan Black Badge\",\"Ghost\",\"Ghost Black Badge\",\"Ghost EWB\",\"Phantom\",\"Phantom EWB\",\"Ascent AWD\",\"BRZ\",\"BRZ\",\"Crosstrek AWD\",\"Crosstrek AWD\",\"Crosstrek AWD\",\"Forester AWD\",\"Forester Wilderness AWD\",\"Impreza 4-Door AWD\",\"Impreza 4-Door AWD\",\"Impreza 5-Door AWD\",\"Impreza 5-Door AWD\",\"Legacy AWD\",\"Legacy AWD\",\"Outback AWD\",\"Outback AWD\",\"Outback Wilderness AWD\",\"WRX AWD\",\"WRX AWD\",\"4Runner 4WD\",\"4Runner 4WD (Part-Time 4WD) \",\"C-HR\",\"Camry LE/SE\",\"Camry XSE\",\"Camry XSE V6\",\"Camry TRD\",\"Camry AWD SE\",\"Camry AWD XSE\",\"Camry Hybrid LE\",\"Camry Hybrid SE/XLE/XSE\",\"Corolla\",\"Corolla XLE\",\"Corolla\",\"Corolla\",\"Corolla XSE\",\"Corolla\",\"Corolla Apex Edition\",\"Corolla Hatchback\",\"Corolla Hatchback\",\"Corolla Hybrid\",\"Corolla Cross\",\"Corolla Cross AWD\",\"GR 86\",\"GR 86\",\"GR Supra 2.0\",\"GR Supra 3.0\",\"Highlander AWD\",\"Highlander Hybrid AWD\",\"Highlander Hybrid AWD Limited/Platinum\",\"Prius\",\"Prius AWD\",\"RAV4\",\"RAV4 (Stop/Start)\",\"RAV4 AWD\",\"RAV4 AWD (Stop/Start)\",\"RAV4 AWD LE\",\"RAV4 AWD TRD Off-Road\",\"RAV4 Hybrid AWD\",\"Sequoia 4WD\",\"Sienna\",\"Sienna AWD\",\"Tacoma 4WD\",\"Tacoma 4WD\",\"Tacoma 4WD D-Cab TRD Off-Road/PRO\",\"Tundra\",\"Tundra 4WD\",\"Tundra 4WD TRD\",\"Tundra Hybrid 4WD\",\"Tundra Hybrid 4WD TRD PRO\",\"Venza AWD\",\"Atlas 4MOTION\",\"Atlas 4MOTION\",\"Atlas Cross Sport 4MOTION\",\"Atlas Cross Sport 4MOTION\",\"Golf GTI\",\"Golf GTI\",\"Golf R\",\"Golf R\",\"Jetta\",\"Jetta SE/SEL\",\"Jetta\",\"Jetta GLI\",\"Jetta GLI\",\"Passat\",\"Taos\",\"Taos 4MOTION\",\"Tiguan 4MOTION\",\"Tiguan R-Line 4MOTION\",\"S60 B5\",\"S60 B5 AWD\",\"S90 B6 AWD\",\"V60 T6 AWD\",\"V60 CC T5 AWD\",\"V90 CC B6 AWD\",\"XC40 T4 AWD\",\"XC40 T5 AWD\",\"XC60 B5 AWD\",\"XC60 B6 AWD\",\"XC90 T5 AWD\",\"XC90 T6 AWD\"],\"xaxis\":\"x\",\"y\":[200,263,232,242,230,231,256,261,205,217,271,218,226,288,271,324,324,343,270,178,190,205,208,214,205,205,208,224,234,224,248,215,233,217,220,220,252,273,273,322,356,322,356,267,268,319,315,360,206,227,233,227,227,254,254,323,262,262,325,325,218,218,235,209,309,383,287,379,294,395,323,373,195,202,202,206,219,279,279,279,279,321,214,212,293,292,296,214,301,293,292,296,211,214,224,322,322,322,271,354,322,322,322,322,322,322,279,271,279,213,207,207,230,323,323,241,230,323,323,241,241,364,364,302,241,364,364,302,256,321,199,223,522,608,608,263,277,201,214,184,185,201,209,220,206,221,216,233,239,244,297,303,207,252,222,260,258,260,346,356,281,345,353,211,225,225,237,263,239,269,221,252,232,259,222,239,251,281,281,296,355,349,257,270,263,267,283,283,326,329,297,198,208,175,213,274,240,341,321,314,304,306,328,272,265,298,347,326,380,358,327,359,314,347,327,339,361,364,381,329,345,352,352,385,366,165,170,272,327,332,281,336,354,345,353,263,327,332,281,327,354,345,353,184,178,197,260,277,201,214,242,289,258,249,249,279,242,289,307,305,325,258,305,325,339,352,359,352,242,289,305,258,305,368,265,331,363,221,275,277,291,323,336,331,308,310,314,317,331,209,240,219,238,239,262,182,198,216,136,139,304,317,317,326,242,252,269,277,277,225,256,282,260,249,275,281,300,298,302,289,274,277,256,284,304,304,301,308,295,344,357,359,370,310,313,228,238,395,226,147,220,231,242,236,246,298,314,237,244,252,244,256,314,302,339,256,262,291,392,221,221,211,249,216,216,219,249,273,225,298,303,229,275,248,279,221,252,232,259,257,270,263,267,283,283,274,245,341,321,314,305,306,328,265,298,347,326,380,358,327,359,318,347,329,338,360,381,329,345,352,385,202,212,272,327,332,281,327,354,345,353,272,327,332,281,336,354,345,353,168,176,211,117,129,166,175,167,186,162,162,165,180,180,189,181,193,200,248,265,256,260,271,179,158,151,185,241,223,103,99,94,174,246,193,187,265,250,233,235,176,183,208,182,117,194,214,152,248,226,176,184,254,261,252,259,228,223,253,355,247,245,286,299,286,299,299,299,214,219,240,229,230,249,268,218,222,263,271,290,296,256,331,266,331,265,374,204,222,231,323,241,274,258,277,251,255,275,275,262,285,387,252,184,165,178,190,169,207,195,110,110,124,159,166,182,205,195,234,227,157,187,214,261,238,280,266,489,498,498,371,370,371,370,384,289,287,339,306,287,350,271,270,279,279,305,305,354,365,269,269,294,336,195,124,214,219,337,221,253,253,280,294,304,189,270,216,298,198,221,222,140,253,253,285,252,268,185,190,168,140,280,229,232,252,251,262,311,271,271,293,348,308,308,349,349,295,281,281,293,348,179,186,189,202,208,220,216,209,230,243,178,180,183,199,207,181,181,190,198,200,209,186,189,194,202,221,221,256,252,227,243,241,232,247,239,230,260,262,264,287,283,292,258,224,217,200,229,229,218,233,225,229,210,224,242,237,250,244,247,269,301,267,267,282,231,285,170,177,170,177,170,177,211,174,211,174,211,207,182,205,212,191,211,210,198,210,216,143,151,208,206,213,218,186,190,362,266,288,169,233,245,246,188,213,196,169,190,179,181,195,167,171,185,189,158,181,233,245,236,245,255,263,260,284,233,245,236,245,255,263,271,286,260,284,271,286,275,275,275,275,274,264,273,275,275,275,273,281,289,276,289,278,288,289,288,296,334,355,335,354,275,274,278,287,296,321,324,321,328,289,289,307,305,331,326,343,330,345,263,289,290,274,274,289,274,276,292,292,323,323,326,326,326,243,238,253,245,320,275,260,260,325,284,465,280,323,295,330,232,386,386,387,387,387,382,382,245,224,247,184,220,188,192,210,174,209,178,211,205,184,213,192,235,262,254,323,321,189,174,178,215,220,192,195,113,121,166,170,165,159,164,172,164,159,179,106,171,182,224,246,195,218,241,158,156,106,111,184,180,198,187,184,200,140,385,154,158,278,299,300,277,285,286,274,277,142,249,286,252,275,194,198,213,237,159,167,161,185,186,196,178,200,222,229,186,193,212,224,221,222,217,219,219,232,236,252],\"yaxis\":\"y\",\"type\":\"scatter\"}],                        {\"template\":{\"data\":{\"bar\":[{\"error_x\":{\"color\":\"#2a3f5f\"},\"error_y\":{\"color\":\"#2a3f5f\"},\"marker\":{\"line\":{\"color\":\"#E5ECF6\",\"width\":0.5},\"pattern\":{\"fillmode\":\"overlay\",\"size\":10,\"solidity\":0.2}},\"type\":\"bar\"}],\"barpolar\":[{\"marker\":{\"line\":{\"color\":\"#E5ECF6\",\"width\":0.5},\"pattern\":{\"fillmode\":\"overlay\",\"size\":10,\"solidity\":0.2}},\"type\":\"barpolar\"}],\"carpet\":[{\"aaxis\":{\"endlinecolor\":\"#2a3f5f\",\"gridcolor\":\"white\",\"linecolor\":\"white\",\"minorgridcolor\":\"white\",\"startlinecolor\":\"#2a3f5f\"},\"baxis\":{\"endlinecolor\":\"#2a3f5f\",\"gridcolor\":\"white\",\"linecolor\":\"white\",\"minorgridcolor\":\"white\",\"startlinecolor\":\"#2a3f5f\"},\"type\":\"carpet\"}],\"choropleth\":[{\"colorbar\":{\"outlinewidth\":0,\"ticks\":\"\"},\"type\":\"choropleth\"}],\"contour\":[{\"colorbar\":{\"outlinewidth\":0,\"ticks\":\"\"},\"colorscale\":[[0.0,\"#0d0887\"],[0.1111111111111111,\"#46039f\"],[0.2222222222222222,\"#7201a8\"],[0.3333333333333333,\"#9c179e\"],[0.4444444444444444,\"#bd3786\"],[0.5555555555555556,\"#d8576b\"],[0.6666666666666666,\"#ed7953\"],[0.7777777777777778,\"#fb9f3a\"],[0.8888888888888888,\"#fdca26\"],[1.0,\"#f0f921\"]],\"type\":\"contour\"}],\"contourcarpet\":[{\"colorbar\":{\"outlinewidth\":0,\"ticks\":\"\"},\"type\":\"contourcarpet\"}],\"heatmap\":[{\"colorbar\":{\"outlinewidth\":0,\"ticks\":\"\"},\"colorscale\":[[0.0,\"#0d0887\"],[0.1111111111111111,\"#46039f\"],[0.2222222222222222,\"#7201a8\"],[0.3333333333333333,\"#9c179e\"],[0.4444444444444444,\"#bd3786\"],[0.5555555555555556,\"#d8576b\"],[0.6666666666666666,\"#ed7953\"],[0.7777777777777778,\"#fb9f3a\"],[0.8888888888888888,\"#fdca26\"],[1.0,\"#f0f921\"]],\"type\":\"heatmap\"}],\"heatmapgl\":[{\"colorbar\":{\"outlinewidth\":0,\"ticks\":\"\"},\"colorscale\":[[0.0,\"#0d0887\"],[0.1111111111111111,\"#46039f\"],[0.2222222222222222,\"#7201a8\"],[0.3333333333333333,\"#9c179e\"],[0.4444444444444444,\"#bd3786\"],[0.5555555555555556,\"#d8576b\"],[0.6666666666666666,\"#ed7953\"],[0.7777777777777778,\"#fb9f3a\"],[0.8888888888888888,\"#fdca26\"],[1.0,\"#f0f921\"]],\"type\":\"heatmapgl\"}],\"histogram\":[{\"marker\":{\"pattern\":{\"fillmode\":\"overlay\",\"size\":10,\"solidity\":0.2}},\"type\":\"histogram\"}],\"histogram2d\":[{\"colorbar\":{\"outlinewidth\":0,\"ticks\":\"\"},\"colorscale\":[[0.0,\"#0d0887\"],[0.1111111111111111,\"#46039f\"],[0.2222222222222222,\"#7201a8\"],[0.3333333333333333,\"#9c179e\"],[0.4444444444444444,\"#bd3786\"],[0.5555555555555556,\"#d8576b\"],[0.6666666666666666,\"#ed7953\"],[0.7777777777777778,\"#fb9f3a\"],[0.8888888888888888,\"#fdca26\"],[1.0,\"#f0f921\"]],\"type\":\"histogram2d\"}],\"histogram2dcontour\":[{\"colorbar\":{\"outlinewidth\":0,\"ticks\":\"\"},\"colorscale\":[[0.0,\"#0d0887\"],[0.1111111111111111,\"#46039f\"],[0.2222222222222222,\"#7201a8\"],[0.3333333333333333,\"#9c179e\"],[0.4444444444444444,\"#bd3786\"],[0.5555555555555556,\"#d8576b\"],[0.6666666666666666,\"#ed7953\"],[0.7777777777777778,\"#fb9f3a\"],[0.8888888888888888,\"#fdca26\"],[1.0,\"#f0f921\"]],\"type\":\"histogram2dcontour\"}],\"mesh3d\":[{\"colorbar\":{\"outlinewidth\":0,\"ticks\":\"\"},\"type\":\"mesh3d\"}],\"parcoords\":[{\"line\":{\"colorbar\":{\"outlinewidth\":0,\"ticks\":\"\"}},\"type\":\"parcoords\"}],\"pie\":[{\"automargin\":true,\"type\":\"pie\"}],\"scatter\":[{\"marker\":{\"colorbar\":{\"outlinewidth\":0,\"ticks\":\"\"}},\"type\":\"scatter\"}],\"scatter3d\":[{\"line\":{\"colorbar\":{\"outlinewidth\":0,\"ticks\":\"\"}},\"marker\":{\"colorbar\":{\"outlinewidth\":0,\"ticks\":\"\"}},\"type\":\"scatter3d\"}],\"scattercarpet\":[{\"marker\":{\"colorbar\":{\"outlinewidth\":0,\"ticks\":\"\"}},\"type\":\"scattercarpet\"}],\"scattergeo\":[{\"marker\":{\"colorbar\":{\"outlinewidth\":0,\"ticks\":\"\"}},\"type\":\"scattergeo\"}],\"scattergl\":[{\"marker\":{\"colorbar\":{\"outlinewidth\":0,\"ticks\":\"\"}},\"type\":\"scattergl\"}],\"scattermapbox\":[{\"marker\":{\"colorbar\":{\"outlinewidth\":0,\"ticks\":\"\"}},\"type\":\"scattermapbox\"}],\"scatterpolar\":[{\"marker\":{\"colorbar\":{\"outlinewidth\":0,\"ticks\":\"\"}},\"type\":\"scatterpolar\"}],\"scatterpolargl\":[{\"marker\":{\"colorbar\":{\"outlinewidth\":0,\"ticks\":\"\"}},\"type\":\"scatterpolargl\"}],\"scatterternary\":[{\"marker\":{\"colorbar\":{\"outlinewidth\":0,\"ticks\":\"\"}},\"type\":\"scatterternary\"}],\"surface\":[{\"colorbar\":{\"outlinewidth\":0,\"ticks\":\"\"},\"colorscale\":[[0.0,\"#0d0887\"],[0.1111111111111111,\"#46039f\"],[0.2222222222222222,\"#7201a8\"],[0.3333333333333333,\"#9c179e\"],[0.4444444444444444,\"#bd3786\"],[0.5555555555555556,\"#d8576b\"],[0.6666666666666666,\"#ed7953\"],[0.7777777777777778,\"#fb9f3a\"],[0.8888888888888888,\"#fdca26\"],[1.0,\"#f0f921\"]],\"type\":\"surface\"}],\"table\":[{\"cells\":{\"fill\":{\"color\":\"#EBF0F8\"},\"line\":{\"color\":\"white\"}},\"header\":{\"fill\":{\"color\":\"#C8D4E3\"},\"line\":{\"color\":\"white\"}},\"type\":\"table\"}]},\"layout\":{\"annotationdefaults\":{\"arrowcolor\":\"#2a3f5f\",\"arrowhead\":0,\"arrowwidth\":1},\"autotypenumbers\":\"strict\",\"coloraxis\":{\"colorbar\":{\"outlinewidth\":0,\"ticks\":\"\"}},\"colorscale\":{\"diverging\":[[0,\"#8e0152\"],[0.1,\"#c51b7d\"],[0.2,\"#de77ae\"],[0.3,\"#f1b6da\"],[0.4,\"#fde0ef\"],[0.5,\"#f7f7f7\"],[0.6,\"#e6f5d0\"],[0.7,\"#b8e186\"],[0.8,\"#7fbc41\"],[0.9,\"#4d9221\"],[1,\"#276419\"]],\"sequential\":[[0.0,\"#0d0887\"],[0.1111111111111111,\"#46039f\"],[0.2222222222222222,\"#7201a8\"],[0.3333333333333333,\"#9c179e\"],[0.4444444444444444,\"#bd3786\"],[0.5555555555555556,\"#d8576b\"],[0.6666666666666666,\"#ed7953\"],[0.7777777777777778,\"#fb9f3a\"],[0.8888888888888888,\"#fdca26\"],[1.0,\"#f0f921\"]],\"sequentialminus\":[[0.0,\"#0d0887\"],[0.1111111111111111,\"#46039f\"],[0.2222222222222222,\"#7201a8\"],[0.3333333333333333,\"#9c179e\"],[0.4444444444444444,\"#bd3786\"],[0.5555555555555556,\"#d8576b\"],[0.6666666666666666,\"#ed7953\"],[0.7777777777777778,\"#fb9f3a\"],[0.8888888888888888,\"#fdca26\"],[1.0,\"#f0f921\"]]},\"colorway\":[\"#636efa\",\"#EF553B\",\"#00cc96\",\"#ab63fa\",\"#FFA15A\",\"#19d3f3\",\"#FF6692\",\"#B6E880\",\"#FF97FF\",\"#FECB52\"],\"font\":{\"color\":\"#2a3f5f\"},\"geo\":{\"bgcolor\":\"white\",\"lakecolor\":\"white\",\"landcolor\":\"#E5ECF6\",\"showlakes\":true,\"showland\":true,\"subunitcolor\":\"white\"},\"hoverlabel\":{\"align\":\"left\"},\"hovermode\":\"closest\",\"mapbox\":{\"style\":\"light\"},\"paper_bgcolor\":\"white\",\"plot_bgcolor\":\"#E5ECF6\",\"polar\":{\"angularaxis\":{\"gridcolor\":\"white\",\"linecolor\":\"white\",\"ticks\":\"\"},\"bgcolor\":\"#E5ECF6\",\"radialaxis\":{\"gridcolor\":\"white\",\"linecolor\":\"white\",\"ticks\":\"\"}},\"scene\":{\"xaxis\":{\"backgroundcolor\":\"#E5ECF6\",\"gridcolor\":\"white\",\"gridwidth\":2,\"linecolor\":\"white\",\"showbackground\":true,\"ticks\":\"\",\"zerolinecolor\":\"white\"},\"yaxis\":{\"backgroundcolor\":\"#E5ECF6\",\"gridcolor\":\"white\",\"gridwidth\":2,\"linecolor\":\"white\",\"showbackground\":true,\"ticks\":\"\",\"zerolinecolor\":\"white\"},\"zaxis\":{\"backgroundcolor\":\"#E5ECF6\",\"gridcolor\":\"white\",\"gridwidth\":2,\"linecolor\":\"white\",\"showbackground\":true,\"ticks\":\"\",\"zerolinecolor\":\"white\"}},\"shapedefaults\":{\"line\":{\"color\":\"#2a3f5f\"}},\"ternary\":{\"aaxis\":{\"gridcolor\":\"white\",\"linecolor\":\"white\",\"ticks\":\"\"},\"baxis\":{\"gridcolor\":\"white\",\"linecolor\":\"white\",\"ticks\":\"\"},\"bgcolor\":\"#E5ECF6\",\"caxis\":{\"gridcolor\":\"white\",\"linecolor\":\"white\",\"ticks\":\"\"}},\"title\":{\"x\":0.05},\"xaxis\":{\"automargin\":true,\"gridcolor\":\"white\",\"linecolor\":\"white\",\"ticks\":\"\",\"title\":{\"standoff\":15},\"zerolinecolor\":\"white\",\"zerolinewidth\":2},\"yaxis\":{\"automargin\":true,\"gridcolor\":\"white\",\"linecolor\":\"white\",\"ticks\":\"\",\"title\":{\"standoff\":15},\"zerolinecolor\":\"white\",\"zerolinewidth\":2}}},\"xaxis\":{\"anchor\":\"y\",\"domain\":[0.0,1.0],\"title\":{\"text\":\"Model\"}},\"yaxis\":{\"anchor\":\"x\",\"domain\":[0.0,1.0],\"title\":{\"text\":\"CO2 Emissions(g/km)\"}},\"coloraxis\":{\"colorbar\":{\"title\":{\"text\":\"CO2 Rating\"}},\"colorscale\":[[0.0,\"#0d0887\"],[0.1111111111111111,\"#46039f\"],[0.2222222222222222,\"#7201a8\"],[0.3333333333333333,\"#9c179e\"],[0.4444444444444444,\"#bd3786\"],[0.5555555555555556,\"#d8576b\"],[0.6666666666666666,\"#ed7953\"],[0.7777777777777778,\"#fb9f3a\"],[0.8888888888888888,\"#fdca26\"],[1.0,\"#f0f921\"]]},\"legend\":{\"tracegroupgap\":0},\"margin\":{\"t\":60}},                        {\"responsive\": true}                    ).then(function(){\n",
              "                            \n",
              "var gd = document.getElementById('933b91b7-e091-4517-99c4-e2ffa4bce54e');\n",
              "var x = new MutationObserver(function (mutations, observer) {{\n",
              "        var display = window.getComputedStyle(gd).display;\n",
              "        if (!display || display === 'none') {{\n",
              "            console.log([gd, 'removed!']);\n",
              "            Plotly.purge(gd);\n",
              "            observer.disconnect();\n",
              "        }}\n",
              "}});\n",
              "\n",
              "// Listen for the removal of the full notebook cells\n",
              "var notebookContainer = gd.closest('#notebook-container');\n",
              "if (notebookContainer) {{\n",
              "    x.observe(notebookContainer, {childList: true});\n",
              "}}\n",
              "\n",
              "// Listen for the clearing of the current output cell\n",
              "var outputEl = gd.closest('.output');\n",
              "if (outputEl) {{\n",
              "    x.observe(outputEl, {childList: true});\n",
              "}}\n",
              "\n",
              "                        })                };                            </script>        </div>\n",
              "</body>\n",
              "</html>"
            ]
          },
          "metadata": {},
          "output_type": "display_data"
        }
      ],
      "source": [
        "#Scatter plot Ploty\n",
        "\n",
        "# ----------------THIS IS DONE DONT TOUCH-----------------\n",
        "\n",
        "import plotly.express as px\n",
        "import pandas as pd  \n",
        "df = data\n",
        "df.head(15)\n",
        "  \n",
        "fig = px.scatter(df,  x =\"Model\", y =\"CO2 Emissions(g/km)\", color ='CO2 Rating')\n",
        "fig.show()"
      ]
    }
  ],
  "metadata": {
    "colab": {
      "collapsed_sections": [],
      "name": "Fuel Consumption",
      "provenance": []
    },
    "kernelspec": {
      "display_name": "Python 3",
      "name": "python3"
    },
    "language_info": {
      "name": "python"
    }
  },
  "nbformat": 4,
  "nbformat_minor": 0
}